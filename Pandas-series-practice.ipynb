{
 "cells": [
  {
   "cell_type": "markdown",
   "id": "e37eec9c",
   "metadata": {},
   "source": [
    "# Write a Pandas program to create and display a one-dimensional array-like object containing an array of data using Pandas module."
   ]
  },
  {
   "cell_type": "code",
   "execution_count": 1,
   "id": "82719624",
   "metadata": {},
   "outputs": [],
   "source": [
    "import numpy as np\n",
    "import pandas as pd"
   ]
  },
  {
   "cell_type": "code",
   "execution_count": 2,
   "id": "c211edaf",
   "metadata": {},
   "outputs": [
    {
     "data": {
      "text/plain": [
       "0    10\n",
       "1    20\n",
       "2    30\n",
       "3    40\n",
       "4    50\n",
       "dtype: int64"
      ]
     },
     "execution_count": 2,
     "metadata": {},
     "output_type": "execute_result"
    }
   ],
   "source": [
    "s = pd.Series([10,20,30,40,50])\n",
    "s"
   ]
  },
  {
   "cell_type": "markdown",
   "id": "d937f179",
   "metadata": {},
   "source": [
    "# Write a Pandas program to add, subtract, multiple and divide two Pandas Series.\n",
    "# Sample Series: [2, 4, 6, 8, 10], [1, 3, 5, 7, 9]"
   ]
  },
  {
   "cell_type": "code",
   "execution_count": 3,
   "id": "454989d2",
   "metadata": {},
   "outputs": [
    {
     "name": "stdout",
     "output_type": "stream",
     "text": [
      "0     3\n",
      "1     7\n",
      "2    11\n",
      "3    15\n",
      "4    19\n",
      "dtype: int64\n",
      "0    1\n",
      "1    1\n",
      "2    1\n",
      "3    1\n",
      "4    1\n",
      "dtype: int64\n",
      "0     2\n",
      "1    12\n",
      "2    30\n",
      "3    56\n",
      "4    90\n",
      "dtype: int64\n",
      "0    2.000000\n",
      "1    1.333333\n",
      "2    1.200000\n",
      "3    1.142857\n",
      "4    1.111111\n",
      "dtype: float64\n"
     ]
    }
   ],
   "source": [
    "s1= pd.Series([2,4,6,8,10])\n",
    "s2= pd.Series([1,3,5,7,9])\n",
    "s3=s1+s2\n",
    "print(s3)\n",
    "s4=s1-s2\n",
    "print(s4)\n",
    "s5=s1*s2\n",
    "print(s5)\n",
    "s6=s1/s2\n",
    "print(s6)"
   ]
  },
  {
   "cell_type": "markdown",
   "id": "8eb0fc9f",
   "metadata": {},
   "source": [
    "# Write a Pandas program to convert a Panda module Series to Python list and it's type."
   ]
  },
  {
   "cell_type": "code",
   "execution_count": 4,
   "id": "d25a879d",
   "metadata": {},
   "outputs": [
    {
     "name": "stdout",
     "output_type": "stream",
     "text": [
      "0    10\n",
      "1    20\n",
      "2    30\n",
      "3    40\n",
      "4    50\n",
      "dtype: int64\n",
      "int64\n",
      "[10, 20, 30, 40, 50]\n",
      "<class 'list'>\n",
      "(10, 20, 30, 40, 50)\n",
      "<class 'tuple'>\n"
     ]
    }
   ],
   "source": [
    "s\n",
    "print(s)\n",
    "print(s.dtype)\n",
    "s7= s.tolist()\n",
    "print(s7)\n",
    "print(type(s7))\n",
    "s8=tuple(s7)\n",
    "print(s8)\n",
    "print(type(s8))"
   ]
  },
  {
   "cell_type": "markdown",
   "id": "c9cbb0c0",
   "metadata": {},
   "source": [
    "# Write a Pandas program to compare the elements of the two Pandas Series.\n",
    "# Sample Series: [2, 4, 6, 8, 10], [1, 3, 5, 7, 10]"
   ]
  },
  {
   "cell_type": "code",
   "execution_count": 5,
   "id": "beb8581f",
   "metadata": {},
   "outputs": [
    {
     "name": "stdout",
     "output_type": "stream",
     "text": [
      "0    True\n",
      "1    True\n",
      "2    True\n",
      "3    True\n",
      "4    True\n",
      "dtype: bool\n",
      "0    False\n",
      "1    False\n",
      "2    False\n",
      "3    False\n",
      "4    False\n",
      "dtype: bool\n",
      "0    False\n",
      "1    False\n",
      "2    False\n",
      "3    False\n",
      "4    False\n",
      "dtype: bool\n"
     ]
    }
   ],
   "source": [
    "s1=pd.Series([2,4,6,8,10])\n",
    "s2=pd.Series([1,3,5,7,9])\n",
    "print(s1>s2)\n",
    "print(s1<s2)\n",
    "print(s1==s2)"
   ]
  },
  {
   "cell_type": "markdown",
   "id": "ad3d44cc",
   "metadata": {},
   "source": [
    "# Write a Pandas program to convert a dictionary to a Pandas series.\n",
    "# Original dictionary:\n",
    "# {'a': 100, 'b': 200, 'c': 300, 'd': 400, 'e': 800}"
   ]
  },
  {
   "cell_type": "code",
   "execution_count": 6,
   "id": "a7333ec5",
   "metadata": {},
   "outputs": [
    {
     "name": "stdout",
     "output_type": "stream",
     "text": [
      "a    100\n",
      "b    200\n",
      "c    300\n",
      "d    400\n",
      "e    500\n",
      "dtype: int64\n"
     ]
    }
   ],
   "source": [
    "s9 = pd.Series({'a':100,'b':200,'c':300,'d':400,'e':500})\n",
    "print(s9)"
   ]
  },
  {
   "cell_type": "markdown",
   "id": "7a78e25b",
   "metadata": {},
   "source": [
    "# Write a Pandas program to convert a NumPy array to a Pandas series.\n",
    "# NumPy array: [10 20 30 40 50]"
   ]
  },
  {
   "cell_type": "code",
   "execution_count": 7,
   "id": "ec9ab7b4",
   "metadata": {},
   "outputs": [
    {
     "name": "stdout",
     "output_type": "stream",
     "text": [
      "0    10\n",
      "1    20\n",
      "2    30\n",
      "3    40\n",
      "4    50\n",
      "dtype: int32\n"
     ]
    }
   ],
   "source": [
    "n= np.array([10,20,30,40,50])\n",
    "s10=pd.Series(n)\n",
    "print(s10)"
   ]
  },
  {
   "cell_type": "code",
   "execution_count": 8,
   "id": "d1ec06e8",
   "metadata": {},
   "outputs": [],
   "source": [
    "# Write a Pandas program to change the data type of given a column or a Series\n",
    "# Sample Series:\n",
    "### Original Data Series:\n",
    "#### 0 100\n",
    "#### 1 200\n",
    "#### 2 python\n",
    "#### 3 300.12\n",
    "#### 4 400\n",
    "#### dtype: object\n",
    "\n",
    "### Change the said data type to numeric:\n",
    "#### 0 100.00\n",
    "#### 1 200.00\n",
    "#### 2 NaN\n",
    "#### 3 300.12\n",
    "#### 4 400.00\n",
    "#### dtype: float64"
   ]
  },
  {
   "cell_type": "code",
   "execution_count": 9,
   "id": "b9904c5b",
   "metadata": {},
   "outputs": [
    {
     "name": "stdout",
     "output_type": "stream",
     "text": [
      "0       100\n",
      "1       200\n",
      "2    python\n",
      "3    300.12\n",
      "4       400\n",
      "dtype: object\n",
      "0    100.00\n",
      "1    200.00\n",
      "2       NaN\n",
      "3    300.12\n",
      "4    400.00\n",
      "dtype: float64\n"
     ]
    }
   ],
   "source": [
    "s11 = pd.Series(['100','200','python','300.12','400'])\n",
    "print(s11)\n",
    "s12 = pd.to_numeric(s11,errors='coerce')\n",
    "print(s12)"
   ]
  },
  {
   "cell_type": "code",
   "execution_count": 10,
   "id": "388d959b",
   "metadata": {},
   "outputs": [],
   "source": [
    "# Write a Pandas program to convert the first column of a DataFrame as a Series.\n",
    "## Original DataFrame\n",
    "###    col1 col2 col3\n",
    "### 0 1 4 7\n",
    "### 1 2 5 5\n",
    "### 2 3 6 8\n",
    "### 3 4 9 12\n",
    "### 4 7 5 1\n",
    "### 5 11 0 11\n",
    "\n",
    "## 1st column as a Series:\n",
    "### 0 1\n",
    "### 1 2\n",
    "### 2 3\n",
    "### 3 4\n",
    "### 4 7\n",
    "### 5 11\n",
    "### Name: col1, dtype: int64"
   ]
  },
  {
   "cell_type": "code",
   "execution_count": 11,
   "id": "00ec65eb",
   "metadata": {},
   "outputs": [
    {
     "name": "stdout",
     "output_type": "stream",
     "text": [
      "   col1  col2  col3\n",
      "0     1     4     7\n",
      "1     2     5     5\n",
      "2     3     6     8\n",
      "3     4     9    12\n",
      "4     7     5     1\n",
      "5    11     0    11\n"
     ]
    },
    {
     "data": {
      "text/plain": [
       "pandas.core.frame.DataFrame"
      ]
     },
     "execution_count": 11,
     "metadata": {},
     "output_type": "execute_result"
    }
   ],
   "source": [
    "d1 = pd.DataFrame({'col1': [1,2,3,4,7,11],'col2': [4,5,6,9,5,0],'col3': [7,5,8,12,1,11]})\n",
    "print(d1)\n",
    "type(d1)"
   ]
  },
  {
   "cell_type": "code",
   "execution_count": 12,
   "id": "a688260f",
   "metadata": {},
   "outputs": [
    {
     "name": "stdout",
     "output_type": "stream",
     "text": [
      "   col1\n",
      "0     1\n",
      "1     2\n",
      "2     3\n",
      "3     4\n",
      "4     7\n",
      "5    11\n"
     ]
    },
    {
     "data": {
      "text/plain": [
       "pandas.core.frame.DataFrame"
      ]
     },
     "execution_count": 12,
     "metadata": {},
     "output_type": "execute_result"
    }
   ],
   "source": [
    "first_col = d1.loc[:,['col1']]   #using loc function selecting all roe=ws and first column where a dataframe is returned\n",
    "print(first_col)\n",
    "type(first_col)\n",
    "#s13 = pd.Series(first_col)\n",
    "#s13"
   ]
  },
  {
   "cell_type": "code",
   "execution_count": 13,
   "id": "9a9d2f4a",
   "metadata": {},
   "outputs": [
    {
     "name": "stdout",
     "output_type": "stream",
     "text": [
      "0     1\n",
      "1     2\n",
      "2     3\n",
      "3     4\n",
      "4     7\n",
      "5    11\n",
      "Name: col1, dtype: int64\n"
     ]
    },
    {
     "data": {
      "text/plain": [
       "pandas.core.series.Series"
      ]
     },
     "execution_count": 13,
     "metadata": {},
     "output_type": "execute_result"
    }
   ],
   "source": [
    "print(d1['col1'])  #we are separating the first column from the dataframe as a series object. Here the functionality is like creating a subset\n",
    "type(d1['col1'])"
   ]
  },
  {
   "cell_type": "code",
   "execution_count": 14,
   "id": "cfd23046",
   "metadata": {},
   "outputs": [],
   "source": [
    "# Write a Pandas program to convert a given Series to an array.\n",
    "## Sample Output:\n",
    "### Original Data Series:\n",
    "#### 0 100\n",
    "#### 1 200\n",
    "#### 2 python\n",
    "#### 3 300.12\n",
    "#### 4 400\n",
    "#### dtype: object\n",
    "\n",
    "### Series to an array\n",
    "#### ['100' '200' 'python' '300.12' '400']"
   ]
  },
  {
   "cell_type": "code",
   "execution_count": 15,
   "id": "b65304e1",
   "metadata": {},
   "outputs": [
    {
     "name": "stdout",
     "output_type": "stream",
     "text": [
      "0       100\n",
      "1       200\n",
      "2    python\n",
      "3    300.12\n",
      "4       400\n",
      "dtype: object\n"
     ]
    },
    {
     "data": {
      "text/plain": [
       "pandas.core.series.Series"
      ]
     },
     "execution_count": 15,
     "metadata": {},
     "output_type": "execute_result"
    }
   ],
   "source": [
    "s13 = pd.Series(['100', '200', 'python', '300.12', '400'])\n",
    "print(s13)\n",
    "type(s13)"
   ]
  },
  {
   "cell_type": "code",
   "execution_count": 16,
   "id": "60d446e9",
   "metadata": {},
   "outputs": [
    {
     "name": "stdout",
     "output_type": "stream",
     "text": [
      "['100' '200' 'python' '300.12' '400']\n"
     ]
    },
    {
     "data": {
      "text/plain": [
       "numpy.ndarray"
      ]
     },
     "execution_count": 16,
     "metadata": {},
     "output_type": "execute_result"
    }
   ],
   "source": [
    "n1 = np.array(s13)\n",
    "print(n1)\n",
    "type(n1)"
   ]
  },
  {
   "cell_type": "code",
   "execution_count": 17,
   "id": "dcd5aac3",
   "metadata": {},
   "outputs": [],
   "source": [
    "# Write a Pandas program to convert Series of lists to one Series.\n",
    "## Sample Output:\n",
    "### Original Series of list\n",
    "#### 0 [Red, Green, White]\n",
    "#### 1 [Red, Black]\n",
    "#### 2 [Yellow]\n",
    "#### dtype: object\n",
    "### One Series\n",
    "#### 0 Red\n",
    "#### 1 Green\n",
    "#### 2 White\n",
    "#### 3 Red\n",
    "#### 4 Black\n",
    "#### 5 Yellow\n",
    "#### dtype: objec"
   ]
  },
  {
   "cell_type": "code",
   "execution_count": 18,
   "id": "6707ace6",
   "metadata": {},
   "outputs": [
    {
     "name": "stdout",
     "output_type": "stream",
     "text": [
      "0    [Red, Green, White]\n",
      "1           [Red, Black]\n",
      "2               [Yellow]\n",
      "dtype: object\n",
      "['Red', 'Green', 'White', 'Red', 'Black', 'Yellow']\n",
      "0       Red\n",
      "1     Green\n",
      "2     White\n",
      "3       Red\n",
      "4     Black\n",
      "5    Yellow\n",
      "dtype: object\n"
     ]
    }
   ],
   "source": [
    "L1= ['Red','Green','White']\n",
    "L2= ['Red','Black']\n",
    "L3= ['Yellow']\n",
    "s14 = pd.Series([L1,L2,L3])\n",
    "print(s14)\n",
    "#print(s14.values)\n",
    "L= []\n",
    "L=L1+L2+L3\n",
    "print(L)\n",
    "s15= pd.Series(L)\n",
    "print(s15)"
   ]
  },
  {
   "cell_type": "code",
   "execution_count": 19,
   "id": "54a025f6",
   "metadata": {},
   "outputs": [],
   "source": [
    "# Write a Pandas program to sort a given Series.\n",
    "## Sample Output:\n",
    "### Original Data Series: 0 100\n",
    "#### 1 200\n",
    "#### 2 python\n",
    "#### 3 300.12\n",
    "#### 4 400\n",
    "#### dtype: object\n",
    "#### 0 100\n",
    "#### 1 200\n",
    "#### 3 300.12\n",
    "#### 4 400\n",
    "#### 2 python\n",
    "#### dtype: object"
   ]
  },
  {
   "cell_type": "code",
   "execution_count": 20,
   "id": "f76f5297",
   "metadata": {},
   "outputs": [
    {
     "data": {
      "text/plain": [
       "0       100\n",
       "1       200\n",
       "2    python\n",
       "3    300.12\n",
       "4       400\n",
       "dtype: object"
      ]
     },
     "execution_count": 20,
     "metadata": {},
     "output_type": "execute_result"
    }
   ],
   "source": [
    "s16 = pd.Series(['100', '200', 'python', '300.12', '400'])\n",
    "s16"
   ]
  },
  {
   "cell_type": "code",
   "execution_count": 21,
   "id": "11ca9178",
   "metadata": {},
   "outputs": [
    {
     "data": {
      "text/plain": [
       "array(['100', '200', 'python', '300.12', '400'], dtype=object)"
      ]
     },
     "execution_count": 21,
     "metadata": {},
     "output_type": "execute_result"
    }
   ],
   "source": [
    "s16.values"
   ]
  },
  {
   "cell_type": "code",
   "execution_count": 22,
   "id": "61370e22",
   "metadata": {},
   "outputs": [
    {
     "name": "stdout",
     "output_type": "stream",
     "text": [
      "0       100\n",
      "1       200\n",
      "3    300.12\n",
      "4       400\n",
      "2    python\n",
      "dtype: object\n"
     ]
    }
   ],
   "source": [
    "s17 = pd.Series(s16).sort_values()\n",
    "print(s17)"
   ]
  },
  {
   "cell_type": "code",
   "execution_count": 23,
   "id": "39a42719",
   "metadata": {},
   "outputs": [],
   "source": [
    "# Write a Pandas program to add some data to an existing Series.\n",
    "## Sample Output:\n",
    "### Original Data Series:\n",
    "#### 0 100\n",
    "#### 1 200\n",
    "#### 2 python\n",
    "#### 3 300.12\n",
    "#### 4 400\n",
    "#### dtype: object\n",
    "# Data Series after adding some data:\n",
    "#### 0 100\n",
    "#### 1 200\n",
    "#### 2 python\n",
    "#### 3 300.12\n",
    "#### 4 400\n",
    "#### 0 500\n",
    "#### 1 php\n",
    "#### dtype: object"
   ]
  },
  {
   "cell_type": "code",
   "execution_count": 24,
   "id": "e83ca48d",
   "metadata": {},
   "outputs": [
    {
     "name": "stdout",
     "output_type": "stream",
     "text": [
      "0       100\n",
      "1       200\n",
      "2    python\n",
      "3    300.12\n",
      "4       400\n",
      "dtype: object\n",
      "0       100\n",
      "1       200\n",
      "2    python\n",
      "3    300.12\n",
      "4       400\n",
      "0       500\n",
      "1       php\n",
      "dtype: object\n"
     ]
    }
   ],
   "source": [
    "print(s16)\n",
    "s16_new = s16.append(pd.Series(['500', 'php']))\n",
    "# s16['5'] = 500\n",
    "# s16['6'] = 'php'\n",
    "print(s16_new)"
   ]
  },
  {
   "cell_type": "code",
   "execution_count": 25,
   "id": "6d0718ae",
   "metadata": {},
   "outputs": [],
   "source": [
    "# # Write a Pandas program to create a subset of a given series based on value and condition.\n",
    "# Sample Output:\n",
    "# Original Data Series:\n",
    "# 0 0\n",
    "# 1 1\n",
    "# 2 2\n",
    "# 3 3\n",
    "# 4 4\n",
    "# 5 5\n",
    "# 6 6\n",
    "# 7 7\n",
    "# 8 8\n",
    "# 9 9\n",
    "# 10 10\n",
    "# dtype: int64\n",
    "# Subset of the above Data Series:\n",
    "# 0 0\n",
    "# 1 1\n",
    "# 2 2\n",
    "# 3 3\n",
    "# 4 4\n",
    "# 5 5\n",
    "# dtype: int64"
   ]
  },
  {
   "cell_type": "code",
   "execution_count": 26,
   "id": "5b8b379f",
   "metadata": {},
   "outputs": [
    {
     "name": "stdout",
     "output_type": "stream",
     "text": [
      "0      0\n",
      "1      1\n",
      "2      2\n",
      "3      3\n",
      "4      4\n",
      "5      5\n",
      "6      6\n",
      "7      7\n",
      "8      8\n",
      "9      9\n",
      "10    10\n",
      "dtype: int64\n",
      "0    0\n",
      "1    1\n",
      "2    2\n",
      "3    3\n",
      "4    4\n",
      "5    5\n",
      "dtype: int64\n"
     ]
    }
   ],
   "source": [
    "s17 = pd.Series([ i for i in range(11)])\n",
    "print(s17)\n",
    "s17_new1 = pd.Series([ i for i in s17 if i <= 5])\n",
    "print(s17_new1)\n",
    "#s17_new = pd.Series([ s17.values <= 5 ])\n",
    "#print(s17_new)"
   ]
  },
  {
   "cell_type": "code",
   "execution_count": 27,
   "id": "852e4dc4",
   "metadata": {},
   "outputs": [],
   "source": [
    "# Write a Pandas program to change the order of index of a given series.\n",
    "# Sample Output:\n",
    "# Original Data Series:\n",
    "# A 1\n",
    "# B 2\n",
    "# C 3\n",
    "# D 4\n",
    "# E 5\n",
    "# dtype: int64\n",
    "# Data Series after changing the order of index:\n",
    "# B 2\n",
    "# A 1\n",
    "# C 3\n",
    "# D 4\n",
    "# E 5\n",
    "# dtype: int64"
   ]
  },
  {
   "cell_type": "code",
   "execution_count": 28,
   "id": "6cdcfe19",
   "metadata": {},
   "outputs": [
    {
     "name": "stdout",
     "output_type": "stream",
     "text": [
      "A    1\n",
      "B    2\n",
      "C    3\n",
      "D    4\n",
      "E    5\n",
      "dtype: int64\n",
      "B    2\n",
      "A    1\n",
      "C    3\n",
      "D    4\n",
      "E    5\n",
      "dtype: int64\n"
     ]
    }
   ],
   "source": [
    "s18 = pd.Series([1,2,3,4,5],index=['A','B','C','D','E'])\n",
    "print(s18)\n",
    "s18_new = s18.reindex(index = ['B','A','C','D','E'])\n",
    "print(s18_new)"
   ]
  },
  {
   "cell_type": "code",
   "execution_count": 29,
   "id": "c5438da7",
   "metadata": {},
   "outputs": [],
   "source": [
    "# Write a Pandas program to create the mean and standard deviation of the data of a given Series.\n",
    "# Sample Output:\n",
    "# Original Data Series:\n",
    "# 0 1\n",
    "# 1 2\n",
    "# 2 3\n",
    "# 3 4\n",
    "# 4 5\n",
    "# 5 6\n",
    "# 6 7\n",
    "# 7 8\n",
    "# 8 9\n",
    "# 9 5\n",
    "# 10 3\n",
    "# dtype: int64\n",
    "# Mean of the said Data Series:\n",
    "# 4.818181818181818\n",
    "# Standard deviation of the said Data Series:\n",
    "# 2.522624895547565"
   ]
  },
  {
   "cell_type": "code",
   "execution_count": 30,
   "id": "0c0313a4",
   "metadata": {},
   "outputs": [
    {
     "name": "stdout",
     "output_type": "stream",
     "text": [
      "0     1\n",
      "1     2\n",
      "2     3\n",
      "3     4\n",
      "4     5\n",
      "5     6\n",
      "6     7\n",
      "7     8\n",
      "8     9\n",
      "9     5\n",
      "10    3\n",
      "dtype: int64\n",
      "4.818181818181818\n",
      "2.522624895547565\n"
     ]
    }
   ],
   "source": [
    "s19 = pd.Series([1,2,3,4,5,6,7,8,9,5,3])\n",
    "print(s19)\n",
    "Mean = s19.mean()\n",
    "Std = s19.std()\n",
    "print(Mean)\n",
    "print(Std)\n",
    "#print(round(Mean,2))\n",
    "#print(round(Std,2))"
   ]
  },
  {
   "cell_type": "code",
   "execution_count": 31,
   "id": "e5eb4b63",
   "metadata": {},
   "outputs": [],
   "source": [
    "# Write a Pandas program to get the items of a given series not present in another given series.\n",
    "# Sample Output:\n",
    "# Original Series:\n",
    "# sr1:\n",
    "# 0 1\n",
    "# 1 2\n",
    "# 2 3\n",
    "# 3 4\n",
    "# 4 5\n",
    "# dtype: int64\n",
    "# sr2:\n",
    "# 0 2\n",
    "# 1 4\n",
    "# 2 6\n",
    "# 3 8\n",
    "# 4 10\n",
    "# dtype: int64\n",
    "# Items of sr1 not present in sr2:\n",
    "# 0 1\n",
    "# 2 3\n",
    "# 4 5\n",
    "# dtype: int64"
   ]
  },
  {
   "cell_type": "code",
   "execution_count": 32,
   "id": "5752ee17",
   "metadata": {},
   "outputs": [
    {
     "name": "stdout",
     "output_type": "stream",
     "text": [
      "0    1\n",
      "1    2\n",
      "2    3\n",
      "3    4\n",
      "4    5\n",
      "dtype: int64\n",
      "0     2\n",
      "1     4\n",
      "2     6\n",
      "3     8\n",
      "4    10\n",
      "dtype: int64\n",
      "0    1\n",
      "2    3\n",
      "4    5\n",
      "dtype: int64\n"
     ]
    }
   ],
   "source": [
    "sr1 = pd.Series([1,2,3,4,5])\n",
    "sr2 = pd.Series([2,4,6,8,10])\n",
    "print(sr1)\n",
    "print(sr2)\n",
    "sr3 = pd.Series(sr1[~sr1.isin(sr2)])\n",
    "print(sr3)"
   ]
  },
  {
   "cell_type": "code",
   "execution_count": 33,
   "id": "c559cf2e",
   "metadata": {},
   "outputs": [],
   "source": [
    "# Write a Pandas program to get the items which are not common of two given series.\n",
    "# Sample Output:\n",
    "# Original Series:\n",
    "# sr1:\n",
    "# 0 1\n",
    "# 1 2\n",
    "# 2 3\n",
    "# 3 4\n",
    "# 4 5\n",
    "# dtype: int64\n",
    "# sr2:\n",
    "# 0 2\n",
    "# 1 4\n",
    "# 2 6\n",
    "# 3 8\n",
    "# 4 10\n",
    "# dtype: int64\n",
    "# Items of a given series not present in another given series:\n",
    "# 0 1\n",
    "# 2 3\n",
    "# 4 5\n",
    "# 5 6\n",
    "# 6 8\n",
    "# 7 10\n",
    "# dtype: int64"
   ]
  },
  {
   "cell_type": "code",
   "execution_count": 34,
   "id": "457ef8f4",
   "metadata": {},
   "outputs": [
    {
     "name": "stdout",
     "output_type": "stream",
     "text": [
      "0    1\n",
      "1    2\n",
      "2    3\n",
      "3    4\n",
      "4    5\n",
      "dtype: int64\n",
      "0     2\n",
      "1     4\n",
      "2     6\n",
      "3     8\n",
      "4    10\n",
      "dtype: int64\n",
      "Union of the sets:\n",
      "0     1\n",
      "1     2\n",
      "2     3\n",
      "3     4\n",
      "4     5\n",
      "5     6\n",
      "6     8\n",
      "7    10\n",
      "dtype: int64\n",
      "Intersection of the sets:\n",
      "0    2\n",
      "1    4\n",
      "dtype: int64\n",
      "Uncommon items in both sr1 and sr2\n",
      "0     1\n",
      "2     3\n",
      "4     5\n",
      "5     6\n",
      "6     8\n",
      "7    10\n",
      "dtype: int64\n",
      "To check whether all elements of union series are there in intersection series:\n",
      "0    True\n",
      "1    True\n",
      "dtype: bool\n",
      "To check whether all elements of intersection series are there in union series:\n",
      "0    False\n",
      "1     True\n",
      "2    False\n",
      "3     True\n",
      "4    False\n",
      "5    False\n",
      "6    False\n",
      "7    False\n",
      "dtype: bool\n"
     ]
    }
   ],
   "source": [
    "print(sr1)\n",
    "print(sr2)\n",
    "union = pd.Series(np.union1d(sr1,sr2))\n",
    "print(\"Union of the sets:\")\n",
    "print(union)\n",
    "intersection = pd.Series(np.intersect1d(sr1,sr2))\n",
    "print(\"Intersection of the sets:\")\n",
    "print(intersection)\n",
    "print(\"Uncommon items in both sr1 and sr2\")\n",
    "uncommon = print(pd.Series(union[~union.isin(intersection)]))\n",
    "print(\"To check whether all elements of union series are there in intersection series:\")\n",
    "unc1 = print(pd.Series(intersection.isin(union)))\n",
    "print(\"To check whether all elements of intersection series are there in union series:\")\n",
    "unc2 = print(pd.Series(union.isin(intersection)))"
   ]
  },
  {
   "cell_type": "code",
   "execution_count": 35,
   "id": "249e3257",
   "metadata": {},
   "outputs": [],
   "source": [
    "# Write a Pandas program to compute the minimum, 25th percentile, median, 75th, and maximum of a given series.\n",
    "# Sample Output:\n",
    "# Original Series:\n",
    "# 0 3.000938\n",
    "# 1 11.370722\n",
    "# 2 14.612143\n",
    "# 3 8.990256\n",
    "# 4 13.925283\n",
    "# 5 12.056875\n",
    "# .... 17 14.118931\n",
    "# 18 8.247458\n",
    "# 19 5.526727\n",
    "# dtype: float64\n",
    "# Minimum, 25th percentile, median, 75th, and maximum of a given series:\n",
    "# [ 3.00093811 8.09463867 10.23353705 12.21537733 14.61214321]"
   ]
  },
  {
   "cell_type": "code",
   "execution_count": null,
   "id": "6b300bc3",
   "metadata": {},
   "outputs": [],
   "source": [
    "# Write a Pandas program to calculate the frequency counts of each unique value of a given series\n",
    "# Sample Output:\n",
    "# Original Series:\n",
    "# 0 1\n",
    "# 1 7\n",
    "# 2 1\n",
    "# 3 6\n",
    "# 4 9\n",
    "# 5 1\n",
    "# ... 29 2\n",
    "# 30 9\n",
    "# 31 1\n",
    "# 32 2\n",
    "# 33 9\n",
    "# 34 2\n",
    "# 35 9\n",
    "# 36 0\n",
    "# 37 0\n",
    "# 38 4\n",
    "# 39 8\n",
    "# dtype: object\n",
    "# Frequency of each unique value of the said series.\n",
    "# 0 9\n",
    "# 2 7\n",
    "# 9 6\n",
    "# 1 5\n",
    "# 6 3\n",
    "# 8 3\n",
    "# 7 3\n",
    "# 3 2\n",
    "# 4 1\n",
    "# 5 1\n",
    "# dtype: int64"
   ]
  },
  {
   "cell_type": "code",
   "execution_count": 42,
   "id": "7cacf45f",
   "metadata": {},
   "outputs": [
    {
     "name": "stdout",
     "output_type": "stream",
     "text": [
      "0      1\n",
      "1      2\n",
      "2      3\n",
      "3      4\n",
      "4      5\n",
      "5      6\n",
      "6      7\n",
      "7      8\n",
      "8      9\n",
      "9     10\n",
      "10    15\n",
      "11     6\n",
      "12     6\n",
      "13     8\n",
      "14     9\n",
      "15     9\n",
      "16    20\n",
      "dtype: int64\n",
      "6     3\n",
      "9     3\n",
      "8     2\n",
      "1     1\n",
      "2     1\n",
      "3     1\n",
      "4     1\n",
      "5     1\n",
      "7     1\n",
      "10    1\n",
      "15    1\n",
      "20    1\n",
      "dtype: int64\n"
     ]
    }
   ],
   "source": [
    "s20=pd.Series([1,2,3,4,5,6,7,8,9,10,15,6,6,8,9,9,20])\n",
    "print(s20)\n",
    "#s20.value_counts(normalize=False)\n",
    "s21= pd.Series(s20.value_counts())\n",
    "print(s21)"
   ]
  },
  {
   "cell_type": "code",
   "execution_count": 59,
   "id": "150889f2",
   "metadata": {},
   "outputs": [],
   "source": [
    "# Write a Pandas program to display most frequent value in a given series\n",
    "# and replace everything else as 'Other' in the series."
   ]
  },
  {
   "cell_type": "code",
   "execution_count": 65,
   "id": "0bfb526d",
   "metadata": {},
   "outputs": [
    {
     "name": "stdout",
     "output_type": "stream",
     "text": [
      "6     3\n",
      "9     3\n",
      "8     2\n",
      "1     1\n",
      "2     1\n",
      "3     1\n",
      "4     1\n",
      "5     1\n",
      "7     1\n",
      "10    1\n",
      "15    1\n",
      "20    1\n",
      "dtype: int64\n",
      "<class 'pandas.core.series.Series'>\n",
      "    0\n",
      "0   3\n",
      "1   3\n",
      "2   2\n",
      "3   1\n",
      "4   1\n",
      "5   1\n",
      "6   1\n",
      "7   1\n",
      "8   1\n",
      "9   1\n",
      "10  1\n",
      "11  1\n",
      "    0\n",
      "0   3\n",
      "1   3\n",
      "2   2\n",
      "3   1\n",
      "4   1\n",
      "5   1\n",
      "6   1\n",
      "7   1\n",
      "8   1\n",
      "9   1\n",
      "10  1\n",
      "11  1\n"
     ]
    },
    {
     "ename": "ValueError",
     "evalue": "The truth value of a DataFrame is ambiguous. Use a.empty, a.bool(), a.item(), a.any() or a.all().",
     "output_type": "error",
     "traceback": [
      "\u001b[1;31m---------------------------------------------------------------------------\u001b[0m",
      "\u001b[1;31mValueError\u001b[0m                                Traceback (most recent call last)",
      "\u001b[1;32m<ipython-input-65-3194bbae49c5>\u001b[0m in \u001b[0;36m<module>\u001b[1;34m\u001b[0m\n\u001b[0;32m      5\u001b[0m \u001b[0md2_new\u001b[0m \u001b[1;33m=\u001b[0m \u001b[0md2\u001b[0m\u001b[1;33m.\u001b[0m\u001b[0mloc\u001b[0m\u001b[1;33m[\u001b[0m\u001b[1;36m0\u001b[0m\u001b[1;33m:\u001b[0m\u001b[1;36m11\u001b[0m\u001b[1;33m]\u001b[0m\u001b[1;33m\u001b[0m\u001b[1;33m\u001b[0m\u001b[0m\n\u001b[0;32m      6\u001b[0m \u001b[0mprint\u001b[0m\u001b[1;33m(\u001b[0m\u001b[0md2_new\u001b[0m\u001b[1;33m)\u001b[0m\u001b[1;33m\u001b[0m\u001b[1;33m\u001b[0m\u001b[0m\n\u001b[1;32m----> 7\u001b[1;33m \u001b[0ms22\u001b[0m \u001b[1;33m=\u001b[0m \u001b[0mpd\u001b[0m\u001b[1;33m.\u001b[0m\u001b[0mSeries\u001b[0m\u001b[1;33m(\u001b[0m\u001b[0md2_new\u001b[0m\u001b[1;33m)\u001b[0m\u001b[1;33m\u001b[0m\u001b[1;33m\u001b[0m\u001b[0m\n\u001b[0m\u001b[0;32m      8\u001b[0m \u001b[0mprint\u001b[0m\u001b[1;33m(\u001b[0m\u001b[0ms22\u001b[0m\u001b[1;33m)\u001b[0m\u001b[1;33m\u001b[0m\u001b[1;33m\u001b[0m\u001b[0m\n\u001b[0;32m      9\u001b[0m \u001b[1;31m#s22 = pd.Series([s21.values] if s21.values > 1)\u001b[0m\u001b[1;33m\u001b[0m\u001b[1;33m\u001b[0m\u001b[1;33m\u001b[0m\u001b[0m\n",
      "\u001b[1;32md:\\python-practice-code\\venv\\lib\\site-packages\\pandas\\core\\series.py\u001b[0m in \u001b[0;36m__init__\u001b[1;34m(self, data, index, dtype, name, copy, fastpath)\u001b[0m\n\u001b[0;32m    266\u001b[0m             \u001b[0mname\u001b[0m \u001b[1;33m=\u001b[0m \u001b[0mibase\u001b[0m\u001b[1;33m.\u001b[0m\u001b[0mmaybe_extract_name\u001b[0m\u001b[1;33m(\u001b[0m\u001b[0mname\u001b[0m\u001b[1;33m,\u001b[0m \u001b[0mdata\u001b[0m\u001b[1;33m,\u001b[0m \u001b[0mtype\u001b[0m\u001b[1;33m(\u001b[0m\u001b[0mself\u001b[0m\u001b[1;33m)\u001b[0m\u001b[1;33m)\u001b[0m\u001b[1;33m\u001b[0m\u001b[1;33m\u001b[0m\u001b[0m\n\u001b[0;32m    267\u001b[0m \u001b[1;33m\u001b[0m\u001b[0m\n\u001b[1;32m--> 268\u001b[1;33m             \u001b[1;32mif\u001b[0m \u001b[0mis_empty_data\u001b[0m\u001b[1;33m(\u001b[0m\u001b[0mdata\u001b[0m\u001b[1;33m)\u001b[0m \u001b[1;32mand\u001b[0m \u001b[0mdtype\u001b[0m \u001b[1;32mis\u001b[0m \u001b[1;32mNone\u001b[0m\u001b[1;33m:\u001b[0m\u001b[1;33m\u001b[0m\u001b[1;33m\u001b[0m\u001b[0m\n\u001b[0m\u001b[0;32m    269\u001b[0m                 \u001b[1;31m# gh-17261\u001b[0m\u001b[1;33m\u001b[0m\u001b[1;33m\u001b[0m\u001b[1;33m\u001b[0m\u001b[0m\n\u001b[0;32m    270\u001b[0m                 warnings.warn(\n",
      "\u001b[1;32md:\\python-practice-code\\venv\\lib\\site-packages\\pandas\\core\\construction.py\u001b[0m in \u001b[0;36mis_empty_data\u001b[1;34m(data)\u001b[0m\n\u001b[0;32m    626\u001b[0m     \u001b[0mis_none\u001b[0m \u001b[1;33m=\u001b[0m \u001b[0mdata\u001b[0m \u001b[1;32mis\u001b[0m \u001b[1;32mNone\u001b[0m\u001b[1;33m\u001b[0m\u001b[1;33m\u001b[0m\u001b[0m\n\u001b[0;32m    627\u001b[0m     \u001b[0mis_list_like_without_dtype\u001b[0m \u001b[1;33m=\u001b[0m \u001b[0mis_list_like\u001b[0m\u001b[1;33m(\u001b[0m\u001b[0mdata\u001b[0m\u001b[1;33m)\u001b[0m \u001b[1;32mand\u001b[0m \u001b[1;32mnot\u001b[0m \u001b[0mhasattr\u001b[0m\u001b[1;33m(\u001b[0m\u001b[0mdata\u001b[0m\u001b[1;33m,\u001b[0m \u001b[1;34m\"dtype\"\u001b[0m\u001b[1;33m)\u001b[0m\u001b[1;33m\u001b[0m\u001b[1;33m\u001b[0m\u001b[0m\n\u001b[1;32m--> 628\u001b[1;33m     \u001b[0mis_simple_empty\u001b[0m \u001b[1;33m=\u001b[0m \u001b[0mis_list_like_without_dtype\u001b[0m \u001b[1;32mand\u001b[0m \u001b[1;32mnot\u001b[0m \u001b[0mdata\u001b[0m\u001b[1;33m\u001b[0m\u001b[1;33m\u001b[0m\u001b[0m\n\u001b[0m\u001b[0;32m    629\u001b[0m     \u001b[1;32mreturn\u001b[0m \u001b[0mis_none\u001b[0m \u001b[1;32mor\u001b[0m \u001b[0mis_simple_empty\u001b[0m\u001b[1;33m\u001b[0m\u001b[1;33m\u001b[0m\u001b[0m\n\u001b[0;32m    630\u001b[0m \u001b[1;33m\u001b[0m\u001b[0m\n",
      "\u001b[1;32md:\\python-practice-code\\venv\\lib\\site-packages\\pandas\\core\\generic.py\u001b[0m in \u001b[0;36m__nonzero__\u001b[1;34m(self)\u001b[0m\n\u001b[0;32m   1440\u001b[0m     \u001b[1;33m@\u001b[0m\u001b[0mfinal\u001b[0m\u001b[1;33m\u001b[0m\u001b[1;33m\u001b[0m\u001b[0m\n\u001b[0;32m   1441\u001b[0m     \u001b[1;32mdef\u001b[0m \u001b[0m__nonzero__\u001b[0m\u001b[1;33m(\u001b[0m\u001b[0mself\u001b[0m\u001b[1;33m)\u001b[0m\u001b[1;33m:\u001b[0m\u001b[1;33m\u001b[0m\u001b[1;33m\u001b[0m\u001b[0m\n\u001b[1;32m-> 1442\u001b[1;33m         raise ValueError(\n\u001b[0m\u001b[0;32m   1443\u001b[0m             \u001b[1;34mf\"The truth value of a {type(self).__name__} is ambiguous. \"\u001b[0m\u001b[1;33m\u001b[0m\u001b[1;33m\u001b[0m\u001b[0m\n\u001b[0;32m   1444\u001b[0m             \u001b[1;34m\"Use a.empty, a.bool(), a.item(), a.any() or a.all().\"\u001b[0m\u001b[1;33m\u001b[0m\u001b[1;33m\u001b[0m\u001b[0m\n",
      "\u001b[1;31mValueError\u001b[0m: The truth value of a DataFrame is ambiguous. Use a.empty, a.bool(), a.item(), a.any() or a.all()."
     ]
    }
   ],
   "source": [
    "print(s21)\n",
    "print(type(s21))\n",
    "d2 = pd.DataFrame(s21.values)\n",
    "print(d2)\n",
    "d2_new = d2.loc[0:11]\n",
    "print(d2_new)\n",
    "s22 = pd.Series(d2_new)\n",
    "print(s22)\n",
    "#s22 = pd.Series([s21.values] if s21.values > 1)"
   ]
  },
  {
   "cell_type": "code",
   "execution_count": null,
   "id": "d49e7620",
   "metadata": {},
   "outputs": [],
   "source": []
  }
 ],
 "metadata": {
  "kernelspec": {
   "display_name": "Python 3",
   "language": "python",
   "name": "python3"
  },
  "language_info": {
   "codemirror_mode": {
    "name": "ipython",
    "version": 3
   },
   "file_extension": ".py",
   "mimetype": "text/x-python",
   "name": "python",
   "nbconvert_exporter": "python",
   "pygments_lexer": "ipython3",
   "version": "3.9.4"
  }
 },
 "nbformat": 4,
 "nbformat_minor": 5
}
