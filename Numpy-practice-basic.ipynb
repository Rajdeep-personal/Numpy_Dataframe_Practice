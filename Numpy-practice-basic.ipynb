{
 "cells": [
  {
   "cell_type": "code",
   "execution_count": 1,
   "id": "c7fbeca6",
   "metadata": {},
   "outputs": [],
   "source": [
    "import numpy as np"
   ]
  },
  {
   "cell_type": "code",
   "execution_count": 2,
   "id": "e098cb3d",
   "metadata": {},
   "outputs": [],
   "source": [
    "a=np.array([1,2,3])\n",
    "b=np.array([3,4,5])"
   ]
  },
  {
   "cell_type": "code",
   "execution_count": 3,
   "id": "5f432a2b",
   "metadata": {},
   "outputs": [
    {
     "data": {
      "text/plain": [
       "array([4, 6, 8])"
      ]
     },
     "execution_count": 3,
     "metadata": {},
     "output_type": "execute_result"
    }
   ],
   "source": [
    "c=np.add(a,b)\n",
    "c"
   ]
  },
  {
   "cell_type": "markdown",
   "id": "41b60067",
   "metadata": {},
   "source": [
    "# To check whether none of the element of a given array is 0\n",
    "# If any of the elements of the matrix is 0 then all() returns False"
   ]
  },
  {
   "cell_type": "code",
   "execution_count": 4,
   "id": "d482e3b5",
   "metadata": {},
   "outputs": [
    {
     "data": {
      "text/plain": [
       "array([ True,  True,  True,  True, False,  True])"
      ]
     },
     "execution_count": 4,
     "metadata": {},
     "output_type": "execute_result"
    }
   ],
   "source": [
    "x=np.array([1,3,5,8,0,-6])\n",
    "x!=0"
   ]
  },
  {
   "cell_type": "code",
   "execution_count": 5,
   "id": "b8692f14",
   "metadata": {},
   "outputs": [
    {
     "data": {
      "text/plain": [
       "array([ 1,  3,  5,  8, -6])"
      ]
     },
     "execution_count": 5,
     "metadata": {},
     "output_type": "execute_result"
    }
   ],
   "source": [
    "x[x!=0]"
   ]
  },
  {
   "cell_type": "code",
   "execution_count": 6,
   "id": "bb17d691",
   "metadata": {},
   "outputs": [
    {
     "name": "stdout",
     "output_type": "stream",
     "text": [
      "False\n"
     ]
    }
   ],
   "source": [
    "print(np.all(x))"
   ]
  },
  {
   "cell_type": "code",
   "execution_count": 7,
   "id": "c158a88f",
   "metadata": {},
   "outputs": [
    {
     "name": "stdout",
     "output_type": "stream",
     "text": [
      " all(a, axis=None, out=None, keepdims=<no value>, *, where=<no value>)\n",
      "\n",
      "Test whether all array elements along a given axis evaluate to True.\n",
      "\n",
      "Parameters\n",
      "----------\n",
      "a : array_like\n",
      "    Input array or object that can be converted to an array.\n",
      "axis : None or int or tuple of ints, optional\n",
      "    Axis or axes along which a logical AND reduction is performed.\n",
      "    The default (``axis=None``) is to perform a logical AND over all\n",
      "    the dimensions of the input array. `axis` may be negative, in\n",
      "    which case it counts from the last to the first axis.\n",
      "\n",
      "    .. versionadded:: 1.7.0\n",
      "\n",
      "    If this is a tuple of ints, a reduction is performed on multiple\n",
      "    axes, instead of a single axis or all the axes as before.\n",
      "out : ndarray, optional\n",
      "    Alternate output array in which to place the result.\n",
      "    It must have the same shape as the expected output and its\n",
      "    type is preserved (e.g., if ``dtype(out)`` is float, the result\n",
      "    will consist of 0.0's and 1.0's). See :ref:`ufuncs-output-type` for more\n",
      "    details.\n",
      "\n",
      "keepdims : bool, optional\n",
      "    If this is set to True, the axes which are reduced are left\n",
      "    in the result as dimensions with size one. With this option,\n",
      "    the result will broadcast correctly against the input array.\n",
      "\n",
      "    If the default value is passed, then `keepdims` will not be\n",
      "    passed through to the `all` method of sub-classes of\n",
      "    `ndarray`, however any non-default value will be.  If the\n",
      "    sub-class' method does not implement `keepdims` any\n",
      "    exceptions will be raised.\n",
      "\n",
      "where : array_like of bool, optional\n",
      "    Elements to include in checking for all `True` values.\n",
      "    See `~numpy.ufunc.reduce` for details.\n",
      "\n",
      "    .. versionadded:: 1.20.0\n",
      "\n",
      "Returns\n",
      "-------\n",
      "all : ndarray, bool\n",
      "    A new boolean or array is returned unless `out` is specified,\n",
      "    in which case a reference to `out` is returned.\n",
      "\n",
      "See Also\n",
      "--------\n",
      "ndarray.all : equivalent method\n",
      "\n",
      "any : Test whether any element along a given axis evaluates to True.\n",
      "\n",
      "Notes\n",
      "-----\n",
      "Not a Number (NaN), positive infinity and negative infinity\n",
      "evaluate to `True` because these are not equal to zero.\n",
      "\n",
      "Examples\n",
      "--------\n",
      ">>> np.all([[True,False],[True,True]])\n",
      "False\n",
      "\n",
      ">>> np.all([[True,False],[True,True]], axis=0)\n",
      "array([ True, False])\n",
      "\n",
      ">>> np.all([-1, 4, 5])\n",
      "True\n",
      "\n",
      ">>> np.all([1.0, np.nan])\n",
      "True\n",
      "\n",
      ">>> np.all([[True, True], [False, True]], where=[[True], [False]])\n",
      "True\n",
      "\n",
      ">>> o=np.array(False)\n",
      ">>> z=np.all([-1, 4, 5], out=o)\n",
      ">>> id(z), id(o), z\n",
      "(28293632, 28293632, array(True)) # may vary\n",
      "None\n"
     ]
    }
   ],
   "source": [
    "print(np.info(np.all))"
   ]
  },
  {
   "cell_type": "code",
   "execution_count": 8,
   "id": "dafcaefb",
   "metadata": {},
   "outputs": [
    {
     "data": {
      "text/plain": [
       "array([ 1,  3,  5,  8,  0, -6])"
      ]
     },
     "execution_count": 8,
     "metadata": {},
     "output_type": "execute_result"
    }
   ],
   "source": [
    "x"
   ]
  },
  {
   "cell_type": "code",
   "execution_count": 9,
   "id": "276521a5",
   "metadata": {},
   "outputs": [
    {
     "name": "stdout",
     "output_type": "stream",
     "text": [
      "True\n"
     ]
    }
   ],
   "source": [
    "print(np.any(x))"
   ]
  },
  {
   "cell_type": "markdown",
   "id": "5d9accbb",
   "metadata": {},
   "source": [
    "# NumPy program to test whether any of the elements of a given array is non-zero"
   ]
  },
  {
   "cell_type": "code",
   "execution_count": 10,
   "id": "76605c37",
   "metadata": {},
   "outputs": [],
   "source": [
    "y=np.array([1,2,3,4,5])"
   ]
  },
  {
   "cell_type": "code",
   "execution_count": 11,
   "id": "967ced26",
   "metadata": {},
   "outputs": [
    {
     "data": {
      "text/plain": [
       "array([1, 2, 3, 4, 5])"
      ]
     },
     "execution_count": 11,
     "metadata": {},
     "output_type": "execute_result"
    }
   ],
   "source": [
    "y"
   ]
  },
  {
   "cell_type": "code",
   "execution_count": 12,
   "id": "4668ca2d",
   "metadata": {},
   "outputs": [
    {
     "name": "stdout",
     "output_type": "stream",
     "text": [
      "True\n"
     ]
    }
   ],
   "source": [
    "print(np.any(y))"
   ]
  },
  {
   "cell_type": "code",
   "execution_count": 13,
   "id": "f0b08af2",
   "metadata": {},
   "outputs": [
    {
     "data": {
      "text/plain": [
       "array([10, 15, 20, 25])"
      ]
     },
     "execution_count": 13,
     "metadata": {},
     "output_type": "execute_result"
    }
   ],
   "source": [
    "np.arange(10,30,5)"
   ]
  },
  {
   "cell_type": "code",
   "execution_count": 14,
   "id": "1d8199ea",
   "metadata": {},
   "outputs": [
    {
     "data": {
      "text/plain": [
       "array([ 1,  3,  5,  8,  0, -6])"
      ]
     },
     "execution_count": 14,
     "metadata": {},
     "output_type": "execute_result"
    }
   ],
   "source": [
    "x"
   ]
  },
  {
   "cell_type": "markdown",
   "id": "0a739088",
   "metadata": {},
   "source": [
    "# To check elementwise of an array to be positiveinfinity or negative infinity"
   ]
  },
  {
   "cell_type": "code",
   "execution_count": 15,
   "id": "87447c30",
   "metadata": {},
   "outputs": [
    {
     "name": "stdout",
     "output_type": "stream",
     "text": [
      "[False False False False False False]\n"
     ]
    }
   ],
   "source": [
    "print(np.isinf(x))"
   ]
  },
  {
   "cell_type": "code",
   "execution_count": 16,
   "id": "93acd917",
   "metadata": {},
   "outputs": [],
   "source": [
    "z=np.array([1,2,3,np.inf])"
   ]
  },
  {
   "cell_type": "code",
   "execution_count": 17,
   "id": "963f983a",
   "metadata": {},
   "outputs": [
    {
     "data": {
      "text/plain": [
       "array([ 1.,  2.,  3., inf])"
      ]
     },
     "execution_count": 17,
     "metadata": {},
     "output_type": "execute_result"
    }
   ],
   "source": [
    "z"
   ]
  },
  {
   "cell_type": "code",
   "execution_count": 18,
   "id": "89bad257",
   "metadata": {},
   "outputs": [
    {
     "name": "stdout",
     "output_type": "stream",
     "text": [
      "[False False False  True]\n"
     ]
    }
   ],
   "source": [
    "print(np.isinf(z))"
   ]
  },
  {
   "cell_type": "code",
   "execution_count": 19,
   "id": "637d505b",
   "metadata": {},
   "outputs": [
    {
     "name": "stdout",
     "output_type": "stream",
     "text": [
      "[False False False False]\n"
     ]
    }
   ],
   "source": [
    "print(np.isnan(z))"
   ]
  },
  {
   "cell_type": "code",
   "execution_count": 20,
   "id": "17ca05aa",
   "metadata": {},
   "outputs": [],
   "source": [
    "z1=np.array([1,2,np.nan,4,1+3j])"
   ]
  },
  {
   "cell_type": "code",
   "execution_count": 21,
   "id": "b8325c05",
   "metadata": {},
   "outputs": [
    {
     "data": {
      "text/plain": [
       "array([ 1.+0.j,  2.+0.j, nan+0.j,  4.+0.j,  1.+3.j])"
      ]
     },
     "execution_count": 21,
     "metadata": {},
     "output_type": "execute_result"
    }
   ],
   "source": [
    "z1"
   ]
  },
  {
   "cell_type": "code",
   "execution_count": 22,
   "id": "655f2508",
   "metadata": {},
   "outputs": [
    {
     "name": "stdout",
     "output_type": "stream",
     "text": [
      "[False False  True False False]\n"
     ]
    }
   ],
   "source": [
    "print(np.isnan(z1))"
   ]
  },
  {
   "cell_type": "markdown",
   "id": "db0660a1",
   "metadata": {},
   "source": [
    "# Write a NumPy program to test element-wise for complex number, real number of a given array. Also test whether a given number is a scalar type or not."
   ]
  },
  {
   "cell_type": "code",
   "execution_count": 23,
   "id": "d16e4860",
   "metadata": {},
   "outputs": [
    {
     "name": "stdout",
     "output_type": "stream",
     "text": [
      "[False False False False  True]\n"
     ]
    }
   ],
   "source": [
    "print(np.iscomplex(z1))"
   ]
  },
  {
   "cell_type": "code",
   "execution_count": 24,
   "id": "e4e873e1",
   "metadata": {},
   "outputs": [
    {
     "name": "stdout",
     "output_type": "stream",
     "text": [
      "[ True  True  True  True False]\n"
     ]
    }
   ],
   "source": [
    "print(np.isreal(z1))"
   ]
  },
  {
   "cell_type": "code",
   "execution_count": 25,
   "id": "9ed0b696",
   "metadata": {},
   "outputs": [
    {
     "name": "stdout",
     "output_type": "stream",
     "text": [
      "False\n"
     ]
    }
   ],
   "source": [
    "print(np.isscalar([3.1]))"
   ]
  },
  {
   "cell_type": "code",
   "execution_count": 26,
   "id": "c069f43a",
   "metadata": {},
   "outputs": [
    {
     "data": {
      "text/plain": [
       "array([1, 2, 3])"
      ]
     },
     "execution_count": 26,
     "metadata": {},
     "output_type": "execute_result"
    }
   ],
   "source": [
    "a"
   ]
  },
  {
   "cell_type": "code",
   "execution_count": 27,
   "id": "8b4ae9b4",
   "metadata": {},
   "outputs": [
    {
     "data": {
      "text/plain": [
       "array([3, 4, 5])"
      ]
     },
     "execution_count": 27,
     "metadata": {},
     "output_type": "execute_result"
    }
   ],
   "source": [
    "b"
   ]
  },
  {
   "cell_type": "code",
   "execution_count": 28,
   "id": "31514c22",
   "metadata": {},
   "outputs": [
    {
     "name": "stdout",
     "output_type": "stream",
     "text": [
      "False\n"
     ]
    }
   ],
   "source": [
    "print(np.allclose(a,b))"
   ]
  },
  {
   "cell_type": "code",
   "execution_count": 29,
   "id": "2227b3a7",
   "metadata": {},
   "outputs": [
    {
     "data": {
      "text/plain": [
       "array([4, 6, 8])"
      ]
     },
     "execution_count": 29,
     "metadata": {},
     "output_type": "execute_result"
    }
   ],
   "source": [
    "c"
   ]
  },
  {
   "cell_type": "code",
   "execution_count": 30,
   "id": "0e9cb354",
   "metadata": {},
   "outputs": [],
   "source": [
    "d=np.array([4,6,8])"
   ]
  },
  {
   "cell_type": "code",
   "execution_count": 31,
   "id": "242f93d3",
   "metadata": {},
   "outputs": [
    {
     "data": {
      "text/plain": [
       "array([4, 6, 8])"
      ]
     },
     "execution_count": 31,
     "metadata": {},
     "output_type": "execute_result"
    }
   ],
   "source": [
    "d"
   ]
  },
  {
   "cell_type": "code",
   "execution_count": 32,
   "id": "8ec37284",
   "metadata": {},
   "outputs": [
    {
     "data": {
      "text/plain": [
       "True"
      ]
     },
     "execution_count": 32,
     "metadata": {},
     "output_type": "execute_result"
    }
   ],
   "source": [
    "np.allclose(c,d)"
   ]
  },
  {
   "cell_type": "markdown",
   "id": "1d6f38dd",
   "metadata": {},
   "source": [
    "# Write a NumPy program to create an element-wise comparison (greater, greater_equal, less and less_equal) of two given arrays."
   ]
  },
  {
   "cell_type": "code",
   "execution_count": 33,
   "id": "3c105186",
   "metadata": {},
   "outputs": [
    {
     "name": "stdout",
     "output_type": "stream",
     "text": [
      "[False False False]\n",
      "[False False False]\n",
      "[ True  True  True]\n",
      "[ True  True  True]\n",
      "[False False False]\n",
      "[False False False]\n",
      "[ True  True  True]\n",
      "[ True  True  True]\n",
      "[False False False]\n",
      "[False False False]\n"
     ]
    }
   ],
   "source": [
    "a=np.array([1,2,3])\n",
    "b=np.array([3,4,5])\n",
    "print(np.greater(a,b))\n",
    "print(a>b)\n",
    "print(np.less(a,b))\n",
    "print(a<b)\n",
    "print(np.greater_equal(a,b))\n",
    "print(a>=b)\n",
    "print(np.less_equal(a,b))\n",
    "print(a<=b)\n",
    "print(np.equal(a,b))\n",
    "print(a==b)"
   ]
  },
  {
   "cell_type": "markdown",
   "id": "38d920f0",
   "metadata": {},
   "source": [
    "# Write a NumPy program to create an array with the values 1, 7, 13, 105 and determine the size of the memory occupied by the array"
   ]
  },
  {
   "cell_type": "code",
   "execution_count": 34,
   "id": "4d05a14b",
   "metadata": {},
   "outputs": [],
   "source": [
    "a1=np.array([1, 17, 13, 105])"
   ]
  },
  {
   "cell_type": "code",
   "execution_count": 35,
   "id": "3cd05dc5",
   "metadata": {},
   "outputs": [
    {
     "name": "stdout",
     "output_type": "stream",
     "text": [
      "size of the array:  16\n",
      "size of the array:  4\n",
      "memory size of array element in bytes: 4\n",
      "memory size of array in bytes:  16\n"
     ]
    }
   ],
   "source": [
    "a1.dtype\n",
    "print(\"size of the array: \", a1.nbytes)\n",
    "print(\"size of the array: \", a1.size)\n",
    "print(\"memory size of array element in bytes:\", a1.itemsize)\n",
    "print(\"memory size of array in bytes: \", a1.size * a1.itemsize)"
   ]
  },
  {
   "cell_type": "markdown",
   "id": "297aa21e",
   "metadata": {},
   "source": [
    "# Write a NumPy program to create an array of 10 zeros,10 ones, 10 fives."
   ]
  },
  {
   "cell_type": "code",
   "execution_count": 36,
   "id": "ab40f730",
   "metadata": {},
   "outputs": [
    {
     "name": "stdout",
     "output_type": "stream",
     "text": [
      "[0. 0. 0. 0. 0. 0. 0. 0. 0. 0.]\n",
      "[1. 1. 1. 1. 1. 1. 1. 1. 1. 1.]\n",
      "[5. 5. 5. 5. 5. 5. 5. 5. 5. 5.]\n",
      "[0. 0. 0. 0. 0. 0. 0. 0. 0. 0. 1. 1. 1. 1. 1. 1. 1. 1. 1. 1. 5. 5. 5. 5.\n",
      " 5. 5. 5. 5. 5. 5.]\n"
     ]
    }
   ],
   "source": [
    "e = np.zeros(10)\n",
    "print(e)\n",
    "f = np.ones(10)\n",
    "print(f)\n",
    "g = f*5\n",
    "print(g)\n",
    "h=np.concatenate((e,f,g))\n",
    "print(h)"
   ]
  },
  {
   "cell_type": "markdown",
   "id": "f586928c",
   "metadata": {},
   "source": [
    "# Write a NumPy program to create an array of the integers from 30 to70."
   ]
  },
  {
   "cell_type": "code",
   "execution_count": 37,
   "id": "cc09001d",
   "metadata": {},
   "outputs": [],
   "source": [
    "a2=np.arange(30,71)"
   ]
  },
  {
   "cell_type": "code",
   "execution_count": 38,
   "id": "2c15ba1d",
   "metadata": {},
   "outputs": [
    {
     "data": {
      "text/plain": [
       "array([30, 31, 32, 33, 34, 35, 36, 37, 38, 39, 40, 41, 42, 43, 44, 45, 46,\n",
       "       47, 48, 49, 50, 51, 52, 53, 54, 55, 56, 57, 58, 59, 60, 61, 62, 63,\n",
       "       64, 65, 66, 67, 68, 69, 70])"
      ]
     },
     "execution_count": 38,
     "metadata": {},
     "output_type": "execute_result"
    }
   ],
   "source": [
    "a2"
   ]
  },
  {
   "cell_type": "markdown",
   "id": "682e1eab",
   "metadata": {},
   "source": [
    "# Write a NumPy program to create an array of all the even integers from 30 to 70."
   ]
  },
  {
   "cell_type": "code",
   "execution_count": 39,
   "id": "f7c94109",
   "metadata": {},
   "outputs": [
    {
     "data": {
      "text/plain": [
       "array([30, 32, 34, 36, 38, 40, 42, 44, 46, 48, 50, 52, 54, 56, 58, 60, 62,\n",
       "       64, 66, 68, 70])"
      ]
     },
     "execution_count": 39,
     "metadata": {},
     "output_type": "execute_result"
    }
   ],
   "source": [
    "a3=np.arange(30,71,2)\n",
    "a3"
   ]
  },
  {
   "cell_type": "markdown",
   "id": "af956259",
   "metadata": {},
   "source": [
    "# Write a NumPy program to create a 3x3 identity matrix."
   ]
  },
  {
   "cell_type": "code",
   "execution_count": 40,
   "id": "09e02f9a",
   "metadata": {},
   "outputs": [
    {
     "data": {
      "text/plain": [
       "array([[1., 1., 1.],\n",
       "       [1., 1., 1.],\n",
       "       [1., 1., 1.]])"
      ]
     },
     "execution_count": 40,
     "metadata": {},
     "output_type": "execute_result"
    }
   ],
   "source": [
    "a4=np.ones((3,3))\n",
    "a4"
   ]
  },
  {
   "cell_type": "markdown",
   "id": "ed4b6144",
   "metadata": {},
   "source": [
    "# Write a NumPy program to generate a random number between 0 and 1."
   ]
  },
  {
   "cell_type": "code",
   "execution_count": 41,
   "id": "7b00a507",
   "metadata": {},
   "outputs": [],
   "source": [
    "a5= np.random.randint(0,1)"
   ]
  },
  {
   "cell_type": "code",
   "execution_count": 42,
   "id": "f2ee538f",
   "metadata": {},
   "outputs": [
    {
     "data": {
      "text/plain": [
       "0"
      ]
     },
     "execution_count": 42,
     "metadata": {},
     "output_type": "execute_result"
    }
   ],
   "source": [
    "a5"
   ]
  },
  {
   "cell_type": "markdown",
   "id": "9f64363c",
   "metadata": {},
   "source": [
    "# Write a NumPy program to generate an array of 15 random numbers from a standard normal distribution"
   ]
  },
  {
   "cell_type": "code",
   "execution_count": 64,
   "id": "9e39454f",
   "metadata": {},
   "outputs": [],
   "source": [
    "a6=np.random.randn(15)"
   ]
  },
  {
   "cell_type": "code",
   "execution_count": 65,
   "id": "482903a8",
   "metadata": {},
   "outputs": [
    {
     "data": {
      "text/plain": [
       "array([ 0.83796153,  1.86558262,  0.09834898, -1.95500037, -0.17486557,\n",
       "       -0.85793099,  1.31906018, -0.29526322, -0.97420533,  0.97356486,\n",
       "       -1.33135804, -0.51713495,  0.41982407,  0.10707186,  0.22383143])"
      ]
     },
     "execution_count": 65,
     "metadata": {},
     "output_type": "execute_result"
    }
   ],
   "source": [
    "a6"
   ]
  },
  {
   "cell_type": "code",
   "execution_count": 66,
   "id": "44116832",
   "metadata": {},
   "outputs": [],
   "source": [
    "import matplotlib.pyplot as plt"
   ]
  },
  {
   "cell_type": "code",
   "execution_count": 67,
   "id": "44253f03",
   "metadata": {},
   "outputs": [
    {
     "data": {
      "text/plain": [
       "(-0.017367529520189332, 0.9925771419204469)"
      ]
     },
     "execution_count": 67,
     "metadata": {},
     "output_type": "execute_result"
    }
   ],
   "source": [
    "np.mean(a6),np.std(a6)"
   ]
  },
  {
   "cell_type": "code",
   "execution_count": 75,
   "id": "55610825",
   "metadata": {},
   "outputs": [
    {
     "name": "stdout",
     "output_type": "stream",
     "text": [
      "0.6324336485021155\n",
      "0.938997760668806\n"
     ]
    }
   ],
   "source": [
    "print(np.mean(a7))\n",
    "print(np.std(a7,ddof=1))"
   ]
  },
  {
   "cell_type": "code",
   "execution_count": 71,
   "id": "945ee122",
   "metadata": {},
   "outputs": [
    {
     "data": {
      "text/plain": [
       "(array([1., 1., 2., 1., 2., 3., 1., 2., 1., 1.]),\n",
       " array([-1.95500037, -1.57294207, -1.19088377, -0.80882547, -0.42676717,\n",
       "        -0.04470887,  0.33734943,  0.71940772,  1.10146602,  1.48352432,\n",
       "         1.86558262]),\n",
       " <BarContainer object of 10 artists>)"
      ]
     },
     "execution_count": 71,
     "metadata": {},
     "output_type": "execute_result"
    },
    {
     "data": {
      "image/png": "[encoded data removed]",
      "text/plain": [
       "<Figure size 432x288 with 1 Axes>"
      ]
     },
     "metadata": {
      "needs_background": "light"
     },
     "output_type": "display_data"
    }
   ],
   "source": [
    "plt.hist(a6,edgecolor='white')"
   ]
  },
  {
   "cell_type": "code",
   "execution_count": 72,
   "id": "bb675be3",
   "metadata": {},
   "outputs": [
    {
     "data": {
      "text/plain": [
       "array([-0.40888785,  2.25416598,  0.18753091,  1.80635114,  0.27141044,\n",
       "        0.02089592, -0.52691101,  1.5869208 ,  0.059031  , -1.07057532,\n",
       "        1.016535  ,  1.34037976,  1.08194016,  0.80602291,  1.06169489])"
      ]
     },
     "execution_count": 72,
     "metadata": {},
     "output_type": "execute_result"
    }
   ],
   "source": [
    "a7=np.random.normal(size=15)\n",
    "a7"
   ]
  },
  {
   "cell_type": "code",
   "execution_count": 54,
   "id": "8642ef02",
   "metadata": {},
   "outputs": [
    {
     "data": {
      "text/plain": [
       "(array([2., 3., 3., 0., 1., 1., 2., 2., 0., 1.]),\n",
       " array([-1.4326923 , -1.12932523, -0.82595817, -0.5225911 , -0.21922404,\n",
       "         0.08414303,  0.38751009,  0.69087716,  0.99424423,  1.29761129,\n",
       "         1.60097836]),\n",
       " <BarContainer object of 10 artists>)"
      ]
     },
     "execution_count": 54,
     "metadata": {},
     "output_type": "execute_result"
    },
    {
     "data": {
      "image/png": "[encoded data removed]",
      "text/plain": [
       "<Figure size 432x288 with 1 Axes>"
      ]
     },
     "metadata": {
      "needs_background": "light"
     },
     "output_type": "display_data"
    }
   ],
   "source": [
    "plt.hist(a7,edgecolor='white')"
   ]
  },
  {
   "cell_type": "markdown",
   "id": "c30692bd",
   "metadata": {},
   "source": [
    "# Write a NumPy program to create a vector with values ranging from 15 to 55 and print all values except the first and last."
   ]
  },
  {
   "cell_type": "code",
   "execution_count": 46,
   "id": "ac4270a9",
   "metadata": {},
   "outputs": [],
   "source": [
    "# Vector are built from components, which are ordinary numbers. We can think of a vector as a list of numbers, \n",
    "# and vector algebra as operations performed on the numbers in the list. In other words vector is the numpy 1-D array."
   ]
  },
  {
   "cell_type": "code",
   "execution_count": 47,
   "id": "918673b7",
   "metadata": {},
   "outputs": [
    {
     "name": "stdout",
     "output_type": "stream",
     "text": [
      "[[1 2]\n",
      " [1 2]\n",
      " [1 2]]\n",
      "[1 2 3]\n"
     ]
    }
   ],
   "source": [
    "matrix1 = np.array([[1, 2],[1, 2],[1, 2]])\n",
    "matrix2 = np.array([1, 2, 3])\n",
    "print(matrix1)\n",
    "print(matrix2)"
   ]
  },
  {
   "cell_type": "code",
   "execution_count": 48,
   "id": "2154bab5",
   "metadata": {},
   "outputs": [
    {
     "data": {
      "text/plain": [
       "array([16, 17, 18, 19, 20, 21, 22, 23, 24, 25, 26, 27, 28, 29, 30, 31, 32,\n",
       "       33, 34, 35, 36, 37, 38, 39, 40, 41, 42, 43, 44, 45, 46, 47, 48, 49,\n",
       "       50, 51, 52, 53])"
      ]
     },
     "execution_count": 48,
     "metadata": {},
     "output_type": "execute_result"
    }
   ],
   "source": [
    "matrix=np.arange(15,55)\n",
    "#matrix\n",
    "matrix=matrix[1:-1]\n",
    "matrix"
   ]
  },
  {
   "cell_type": "markdown",
   "id": "011514ab",
   "metadata": {},
   "source": [
    "# Write a NumPy program to create a 3X4 array using and iterate over it."
   ]
  },
  {
   "cell_type": "code",
   "execution_count": 49,
   "id": "07acd1b3",
   "metadata": {},
   "outputs": [
    {
     "name": "stdout",
     "output_type": "stream",
     "text": [
      "[[16 98 18 55]\n",
      " [20 28 20 22]\n",
      " [72 62 93 79]]\n",
      "16, 98, 18, 55, 20, 28, 20, 22, 72, 62, 93, 79, "
     ]
    }
   ],
   "source": [
    "m1=np.random.randint(10,100,(3,4))\n",
    "print(m1)\n",
    "for i in m1:\n",
    "    for j in i:\n",
    "        print(j,end=\", \")"
   ]
  },
  {
   "cell_type": "code",
   "execution_count": 60,
   "id": "2b10bbf3",
   "metadata": {},
   "outputs": [
    {
     "data": {
      "text/plain": [
       "array([[12,  6],\n",
       "       [ 5, 15],\n",
       "       [ 7,  2],\n",
       "       [13,  1]])"
      ]
     },
     "execution_count": 60,
     "metadata": {},
     "output_type": "execute_result"
    }
   ],
   "source": [
    "array1=np.array([[12,6],[5,15],[7,2],[13,1]])\n",
    "array1"
   ]
  },
  {
   "cell_type": "code",
   "execution_count": 63,
   "id": "83ffd76d",
   "metadata": {},
   "outputs": [
    {
     "name": "stdout",
     "output_type": "stream",
     "text": [
      "[37 24]\n",
      "[18 20  9 14]\n"
     ]
    }
   ],
   "source": [
    "print(np.sum(array1,axis=0))\n",
    "print(np.sum(array1,axis=1))"
   ]
  },
  {
   "cell_type": "code",
   "execution_count": null,
   "id": "7b3c551b",
   "metadata": {},
   "outputs": [],
   "source": []
  }
 ],
 "metadata": {
  "kernelspec": {
   "display_name": "Python 3",
   "language": "python",
   "name": "python3"
  },
  "language_info": {
   "codemirror_mode": {
    "name": "ipython",
    "version": 3
   },
   "file_extension": ".py",
   "mimetype": "text/x-python",
   "name": "python",
   "nbconvert_exporter": "python",
   "pygments_lexer": "ipython3",
   "version": "3.9.4"
  }
 },
 "nbformat": 4,
 "nbformat_minor": 5
}
