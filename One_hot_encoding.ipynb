{
 "cells": [
  {
   "cell_type": "code",
   "execution_count": 1,
   "id": "6cb1ff70",
   "metadata": {},
   "outputs": [],
   "source": [
    "import numpy as np\n",
    "from sklearn.preprocessing import OneHotEncoder"
   ]
  },
  {
   "cell_type": "code",
   "execution_count": 2,
   "id": "06ae19c5",
   "metadata": {},
   "outputs": [],
   "source": [
    "names = np.array(['sukanya', 'bijoy', 'subham','rajdeep', 'sougata', 'dipak','sougata', 'sougata','sougata']).reshape(-1,1)"
   ]
  },
  {
   "cell_type": "code",
   "execution_count": 3,
   "id": "f45107e2",
   "metadata": {},
   "outputs": [
    {
     "data": {
      "text/plain": [
       "array([['sukanya'],\n",
       "       ['bijoy'],\n",
       "       ['subham'],\n",
       "       ['rajdeep'],\n",
       "       ['sougata'],\n",
       "       ['dipak'],\n",
       "       ['sougata'],\n",
       "       ['sougata'],\n",
       "       ['sougata']], dtype='<U7')"
      ]
     },
     "execution_count": 3,
     "metadata": {},
     "output_type": "execute_result"
    }
   ],
   "source": [
    "names"
   ]
  },
  {
   "cell_type": "code",
   "execution_count": 4,
   "id": "0e3045bc",
   "metadata": {},
   "outputs": [],
   "source": [
    "hot_encoder = OneHotEncoder()"
   ]
  },
  {
   "cell_type": "code",
   "execution_count": 5,
   "id": "52a6b270",
   "metadata": {},
   "outputs": [],
   "source": [
    "sparse_mat = hot_encoder.fit_transform(names)"
   ]
  },
  {
   "cell_type": "code",
   "execution_count": 6,
   "id": "62ef420d",
   "metadata": {},
   "outputs": [
    {
     "data": {
      "text/plain": [
       "<9x6 sparse matrix of type '<class 'numpy.float64'>'\n",
       "\twith 9 stored elements in Compressed Sparse Row format>"
      ]
     },
     "execution_count": 6,
     "metadata": {},
     "output_type": "execute_result"
    }
   ],
   "source": [
    "sparse_mat"
   ]
  },
  {
   "cell_type": "code",
   "execution_count": 7,
   "id": "ace00088",
   "metadata": {},
   "outputs": [
    {
     "data": {
      "text/plain": [
       "scipy.sparse.csr.csr_matrix"
      ]
     },
     "execution_count": 7,
     "metadata": {},
     "output_type": "execute_result"
    }
   ],
   "source": [
    "type(sparse_mat)"
   ]
  },
  {
   "cell_type": "code",
   "execution_count": 8,
   "id": "861eadd3",
   "metadata": {},
   "outputs": [
    {
     "data": {
      "text/plain": [
       "array([[0., 0., 0., 0., 0., 1.],\n",
       "       [1., 0., 0., 0., 0., 0.],\n",
       "       [0., 0., 0., 0., 1., 0.],\n",
       "       [0., 0., 1., 0., 0., 0.],\n",
       "       [0., 0., 0., 1., 0., 0.],\n",
       "       [0., 1., 0., 0., 0., 0.],\n",
       "       [0., 0., 0., 1., 0., 0.],\n",
       "       [0., 0., 0., 1., 0., 0.],\n",
       "       [0., 0., 0., 1., 0., 0.]])"
      ]
     },
     "execution_count": 8,
     "metadata": {},
     "output_type": "execute_result"
    }
   ],
   "source": [
    "sparse_mat.toarray()"
   ]
  },
  {
   "cell_type": "code",
   "execution_count": 9,
   "id": "4f136f05",
   "metadata": {},
   "outputs": [
    {
     "data": {
      "text/plain": [
       "[array(['bijoy', 'dipak', 'rajdeep', 'sougata', 'subham', 'sukanya'],\n",
       "       dtype='<U7')]"
      ]
     },
     "execution_count": 9,
     "metadata": {},
     "output_type": "execute_result"
    }
   ],
   "source": [
    "hot_encoder.categories_"
   ]
  },
  {
   "cell_type": "code",
   "execution_count": null,
   "id": "d5f8ebe5",
   "metadata": {},
   "outputs": [],
   "source": [
    "\n",
    "\n",
    "\n",
    "\n"
   ]
  }
 ],
 "metadata": {
  "kernelspec": {
   "display_name": "Python 3",
   "language": "python",
   "name": "python3"
  },
  "language_info": {
   "codemirror_mode": {
    "name": "ipython",
    "version": 3
   },
   "file_extension": ".py",
   "mimetype": "text/x-python",
   "name": "python",
   "nbconvert_exporter": "python",
   "pygments_lexer": "ipython3",
   "version": "3.9.4"
  }
 },
 "nbformat": 4,
 "nbformat_minor": 5
}
